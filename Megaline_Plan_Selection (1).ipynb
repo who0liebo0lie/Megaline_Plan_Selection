{
 "cells": [
  {
   "cell_type": "markdown",
   "metadata": {},
   "source": [
    "## Megaline Plan Reccomendations (Machine Learning)"
   ]
  },
  {
   "cell_type": "markdown",
   "metadata": {},
   "source": [
    "Megaline is a mobile carrier trying to develop a model to analyze subscribers' behavior. The models goal would be to recommend one of Megaline's newer plans: Smart or Ultra. \n",
    "\n",
    "Project success will be in developing a model with the highest possible accuracy (0.75) that will pick the right plan.\n",
    "\n",
    "The dataset \"user_behavior\"(datasets/users_behavior.csv) will be uploaded onto jupyterhub.  Source data will be split into a training set, a validation set, and a test set. An investigation will follow testing the quality of different models (classification: LogisticRegression, DecisionTrees, RandomForest by changing hyperparameters. The findings of each model test will be described. Choice was made not to test any regression models (Linear Regression, Decision Tree Regressor, or Random Forest Regressor) since the models goal was to make a binary choice between two choices (reccomend the Ulta plan or not) rather than a numeric projection. An ultimate winning model will be declared by evaluations using the test set.\n",
    "\n",
    "Each row in dataset is for one user.  Features/columns in the dataset are as follows:\n",
    "сalls — number of calls,\n",
    "minutes — total call duration in minutes,\n",
    "messages — number of text messages,\n",
    "mb_used — Internet traffic used in MB,\n",
    "is_ultra — plan for the current month (Ultra - 1, Smart - 0)."
   ]
  },
  {
   "cell_type": "code",
   "execution_count": 1,
   "metadata": {},
   "outputs": [],
   "source": [
    "#import all needed libraries \n",
    "import pandas as pd\n",
    "#import named regression models \n",
    "from sklearn.linear_model import LinearRegression\n",
    "\n",
    "#import ability to split into training and testing data sets \n",
    "from sklearn.model_selection import train_test_split\n",
    "\n",
    "#import ability to evaluate accuracy of data \n",
    "from sklearn.metrics import mean_squared_error\n",
    "from sklearn.metrics import accuracy_score\n",
    "\n",
    "#import classification modesl \n",
    "\n",
    "from sklearn.ensemble import RandomForestClassifier\n",
    "from sklearn.tree import DecisionTreeClassifier\n",
    "\n",
    "from joblib import dump\n",
    "\n",
    "\n"
   ]
  },
  {
   "cell_type": "code",
   "execution_count": 2,
   "metadata": {},
   "outputs": [],
   "source": [
    "#upload file \n",
    "megaline = pd.read_csv('/datasets/users_behavior.csv')\n"
   ]
  },
  {
   "cell_type": "markdown",
   "metadata": {},
   "source": [
    "**PreProcessing "
   ]
  },
  {
   "cell_type": "code",
   "execution_count": 3,
   "metadata": {},
   "outputs": [
    {
     "name": "stdout",
     "output_type": "stream",
     "text": [
      "<class 'pandas.core.frame.DataFrame'>\n",
      "RangeIndex: 3214 entries, 0 to 3213\n",
      "Data columns (total 5 columns):\n",
      " #   Column    Non-Null Count  Dtype  \n",
      "---  ------    --------------  -----  \n",
      " 0   calls     3214 non-null   float64\n",
      " 1   minutes   3214 non-null   float64\n",
      " 2   messages  3214 non-null   float64\n",
      " 3   mb_used   3214 non-null   float64\n",
      " 4   is_ultra  3214 non-null   int64  \n",
      "dtypes: float64(4), int64(1)\n",
      "memory usage: 125.7 KB\n"
     ]
    }
   ],
   "source": [
    "megaline.info()"
   ]
  },
  {
   "cell_type": "code",
   "execution_count": 4,
   "metadata": {},
   "outputs": [
    {
     "data": {
      "text/html": [
       "<div>\n",
       "<style scoped>\n",
       "    .dataframe tbody tr th:only-of-type {\n",
       "        vertical-align: middle;\n",
       "    }\n",
       "\n",
       "    .dataframe tbody tr th {\n",
       "        vertical-align: top;\n",
       "    }\n",
       "\n",
       "    .dataframe thead th {\n",
       "        text-align: right;\n",
       "    }\n",
       "</style>\n",
       "<table border=\"1\" class=\"dataframe\">\n",
       "  <thead>\n",
       "    <tr style=\"text-align: right;\">\n",
       "      <th></th>\n",
       "      <th>calls</th>\n",
       "      <th>minutes</th>\n",
       "      <th>messages</th>\n",
       "      <th>mb_used</th>\n",
       "      <th>is_ultra</th>\n",
       "    </tr>\n",
       "  </thead>\n",
       "  <tbody>\n",
       "    <tr>\n",
       "      <th>0</th>\n",
       "      <td>40.0</td>\n",
       "      <td>311.90</td>\n",
       "      <td>83.0</td>\n",
       "      <td>19915.42</td>\n",
       "      <td>0</td>\n",
       "    </tr>\n",
       "    <tr>\n",
       "      <th>1</th>\n",
       "      <td>85.0</td>\n",
       "      <td>516.75</td>\n",
       "      <td>56.0</td>\n",
       "      <td>22696.96</td>\n",
       "      <td>0</td>\n",
       "    </tr>\n",
       "    <tr>\n",
       "      <th>2</th>\n",
       "      <td>77.0</td>\n",
       "      <td>467.66</td>\n",
       "      <td>86.0</td>\n",
       "      <td>21060.45</td>\n",
       "      <td>0</td>\n",
       "    </tr>\n",
       "    <tr>\n",
       "      <th>3</th>\n",
       "      <td>106.0</td>\n",
       "      <td>745.53</td>\n",
       "      <td>81.0</td>\n",
       "      <td>8437.39</td>\n",
       "      <td>1</td>\n",
       "    </tr>\n",
       "    <tr>\n",
       "      <th>4</th>\n",
       "      <td>66.0</td>\n",
       "      <td>418.74</td>\n",
       "      <td>1.0</td>\n",
       "      <td>14502.75</td>\n",
       "      <td>0</td>\n",
       "    </tr>\n",
       "  </tbody>\n",
       "</table>\n",
       "</div>"
      ],
      "text/plain": [
       "   calls  minutes  messages   mb_used  is_ultra\n",
       "0   40.0   311.90      83.0  19915.42         0\n",
       "1   85.0   516.75      56.0  22696.96         0\n",
       "2   77.0   467.66      86.0  21060.45         0\n",
       "3  106.0   745.53      81.0   8437.39         1\n",
       "4   66.0   418.74       1.0  14502.75         0"
      ]
     },
     "execution_count": 4,
     "metadata": {},
     "output_type": "execute_result"
    }
   ],
   "source": [
    "megaline.head(5)"
   ]
  },
  {
   "cell_type": "code",
   "execution_count": 5,
   "metadata": {},
   "outputs": [
    {
     "name": "stdout",
     "output_type": "stream",
     "text": [
      "<class 'pandas.core.frame.DataFrame'>\n",
      "RangeIndex: 3214 entries, 0 to 3213\n",
      "Data columns (total 5 columns):\n",
      " #   Column    Non-Null Count  Dtype  \n",
      "---  ------    --------------  -----  \n",
      " 0   calls     3214 non-null   float64\n",
      " 1   minutes   3214 non-null   float64\n",
      " 2   messages  3214 non-null   float64\n",
      " 3   mb_used   3214 non-null   float64\n",
      " 4   is_ultra  3214 non-null   int64  \n",
      "dtypes: float64(4), int64(1)\n",
      "memory usage: 125.7 KB\n"
     ]
    }
   ],
   "source": [
    "megaline.info()"
   ]
  },
  {
   "cell_type": "code",
   "execution_count": 6,
   "metadata": {},
   "outputs": [
    {
     "data": {
      "text/plain": [
       "calls       0\n",
       "minutes     0\n",
       "messages    0\n",
       "mb_used     0\n",
       "is_ultra    0\n",
       "dtype: int64"
      ]
     },
     "execution_count": 6,
     "metadata": {},
     "output_type": "execute_result"
    }
   ],
   "source": [
    "#check for empty values \n",
    "megaline.isna().sum()"
   ]
  },
  {
   "cell_type": "code",
   "execution_count": 7,
   "metadata": {},
   "outputs": [
    {
     "data": {
      "text/html": [
       "<div>\n",
       "<style scoped>\n",
       "    .dataframe tbody tr th:only-of-type {\n",
       "        vertical-align: middle;\n",
       "    }\n",
       "\n",
       "    .dataframe tbody tr th {\n",
       "        vertical-align: top;\n",
       "    }\n",
       "\n",
       "    .dataframe thead th {\n",
       "        text-align: right;\n",
       "    }\n",
       "</style>\n",
       "<table border=\"1\" class=\"dataframe\">\n",
       "  <thead>\n",
       "    <tr style=\"text-align: right;\">\n",
       "      <th></th>\n",
       "      <th>calls</th>\n",
       "      <th>minutes</th>\n",
       "      <th>messages</th>\n",
       "      <th>mb_used</th>\n",
       "      <th>is_ultra</th>\n",
       "    </tr>\n",
       "  </thead>\n",
       "  <tbody>\n",
       "  </tbody>\n",
       "</table>\n",
       "</div>"
      ],
      "text/plain": [
       "Empty DataFrame\n",
       "Columns: [calls, minutes, messages, mb_used, is_ultra]\n",
       "Index: []"
      ]
     },
     "execution_count": 7,
     "metadata": {},
     "output_type": "execute_result"
    }
   ],
   "source": [
    "#see any duplicates \n",
    "duplicate=megaline[megaline.duplicated()]\n",
    "duplicate\n",
    "#seems there are no duplicates "
   ]
  },
  {
   "cell_type": "code",
   "execution_count": 8,
   "metadata": {},
   "outputs": [],
   "source": [
    "#split source data in test, training, and validation set 6:2:2\n",
    "#create split between 60% assigned to training and 40% assigned to megaline_temp\n",
    "megaline_train, megaline_temp = train_test_split(megaline, test_size=0.4, random_state=54321) \n",
    "#divide megaline_temp between _validation and _test dataframes for the model. This sources 20% of the data for validation and testing. \n",
    "megaline_valid, megaline_test = train_test_split(megaline_temp, test_size=0.5, random_state=54321) "
   ]
  },
  {
   "cell_type": "code",
   "execution_count": 9,
   "metadata": {},
   "outputs": [
    {
     "name": "stdout",
     "output_type": "stream",
     "text": [
      "Accuracy of the best model on the validation set (n_estimators = 52): 0.7869362363919129\n"
     ]
    },
    {
     "data": {
      "text/plain": [
       "RandomForestClassifier(n_estimators=52, random_state=54321)"
      ]
     },
     "execution_count": 9,
     "metadata": {},
     "output_type": "execute_result"
    }
   ],
   "source": [
    "#test random forest classifier \n",
    "\n",
    "#define variables for training \n",
    "features_train = megaline_train.drop(['is_ultra'], axis=1)\n",
    "target_train = megaline_train['is_ultra']\n",
    "#define variables for testing\n",
    "features_test = megaline_test.drop(['is_ultra'], axis=1)\n",
    "target_test = megaline_test['is_ultra']\n",
    "#define variables for validation \n",
    "features_valid = megaline_valid.drop(['is_ultra'], axis=1)\n",
    "target_valid = megaline_valid['is_ultra']\n",
    "\n",
    "best_score = 0\n",
    "best_est = 0\n",
    "for est in range(1,100): \n",
    "    # choose hyperparameter range (tried between 1-1/50/100)\n",
    "    model = RandomForestClassifier(random_state=54321, n_estimators=est) \n",
    "    model.fit(features_train, target_train) \n",
    "    score = model.score(features_valid, target_valid) \n",
    "    if score > best_score:\n",
    "        best_score = score\n",
    "        best_est = est\n",
    "\n",
    "print(\"Accuracy of the best model on the validation set (n_estimators = {}): {}\".format(best_est, best_score))\n",
    "\n",
    "final_model = RandomForestClassifier(random_state=54321, n_estimators=52) # change n_estimators to get best model\n",
    "final_model.fit(features_test, target_test)"
   ]
  },
  {
   "cell_type": "code",
   "execution_count": 18,
   "metadata": {},
   "outputs": [
    {
     "name": "stdout",
     "output_type": "stream",
     "text": [
      "Random Forest Validation Accuracy: 0.7869362363919129\n",
      "Random Forest Test Accuracy: 0.8149300155520995\n"
     ]
    }
   ],
   "source": [
    "model = RandomForestClassifier(random_state=54321, n_estimators=52)\n",
    "model.fit(features_train, target_train)\n",
    "predictions_valid = model.predict(features_valid)\n",
    "print(\"Random Forest Validation Accuracy:\", accuracy_score(target_valid, predictions_valid))\n",
    "predictions_test = model.predict(features_test)\n",
    "print(\"Random Forest Test Accuracy:\", accuracy_score(target_test, predictions_test))"
   ]
  },
  {
   "cell_type": "markdown",
   "metadata": {},
   "source": [
    "A random forest classifier was used.  Tested several max parameters between 1 and 100.  The best n_estimator was determines to be 52.  This gave us our best accuracy point at 78.6%.  This is better than random guessing (50/50). When model was run on test dataframe the accuracy increased up to 81.4%.  Wonderful to be above 80%. A positive indication that the model trained well on the train and validation data. "
   ]
  },
  {
   "cell_type": "code",
   "execution_count": 13,
   "metadata": {},
   "outputs": [
    {
     "name": "stdout",
     "output_type": "stream",
     "text": [
      "Accuracy of the best model: 0.7791601866251944\n",
      "Best depth: 99\n"
     ]
    }
   ],
   "source": [
    "#test Decision Tree Classifier \n",
    "\n",
    "#define variables for training \n",
    "features_train = megaline_train.drop(['is_ultra'], axis=1)\n",
    "target_train = megaline_train['is_ultra']\n",
    "#define variables for testing\n",
    "features_test = megaline_test.drop(['is_ultra'], axis=1)\n",
    "target_test = megaline_test['is_ultra']\n",
    "#define variables for validation \n",
    "features_valid = megaline_valid.drop(['is_ultra'], axis=1)\n",
    "target_valid = megaline_valid['is_ultra']\n",
    "\n",
    "best_model = None\n",
    "best_result = 0\n",
    "for depth in range(1, 100):\n",
    "\tmodel = DecisionTreeClassifier(random_state=12345, max_depth=depth) # create a model with the given depth\n",
    "\tmodel.fit(features_train, target_train)\n",
    "\tpredictions = model.predict(features_valid)\n",
    "\tresult = accuracy_score(target_valid,predictions)\n",
    "\tif result > best_result:\n",
    "\t\tbest_model = model\n",
    "\t\tbest_result = result\n",
    "        \n",
    "print(\"Accuracy of the best model:\", best_result)\n",
    "print(\"Best depth:\", depth)"
   ]
  },
  {
   "cell_type": "code",
   "execution_count": 14,
   "metadata": {},
   "outputs": [
    {
     "name": "stdout",
     "output_type": "stream",
     "text": [
      "Decision Tree Validation Accuracy: 0.7869362363919129\n",
      "Decision Tree Test Accuracy: 0.7480559875583204\n"
     ]
    }
   ],
   "source": [
    "decision_model = DecisionTreeClassifier(random_state=54321, max_depth=99)\n",
    "decision_model.fit(features_train, target_train)\n",
    "decision_predictions_valid = model.predict(features_valid)\n",
    "print(\"Decision Tree Validation Accuracy:\", accuracy_score(target_valid, predictions_valid))\n",
    "predictions_test = model.predict(features_test)\n",
    "print(\"Decision Tree Test Accuracy:\", accuracy_score(target_test, predictions_test))"
   ]
  },
  {
   "cell_type": "markdown",
   "metadata": {},
   "source": [
    "Utilizing the decision tree classifier the most accurate achieved was 77.9%.  This is above random 50/50% but in no way a good model.  I tested the depth at different parameters (6,10,50,100). The accuracy never varied.  The best depth was consistently one number before the tested parameters. When the model was ran on the test data the accuracy was worse than it performed on the validation data.  This has potential to be a case of underfitting.  "
   ]
  },
  {
   "cell_type": "code",
   "execution_count": 16,
   "metadata": {},
   "outputs": [
    {
     "name": "stdout",
     "output_type": "stream",
     "text": [
      "Accuracy of the logistic regression model on the training set: 0.7131742738589212\n",
      "Accuracy of the logistic regression model on the validation set: 0.6780715396578538\n"
     ]
    }
   ],
   "source": [
    "#test Logistic  regression model \n",
    "\n",
    "#define variables for training \n",
    "features_train = megaline_train.drop(['is_ultra'], axis=1)\n",
    "target_train = megaline_train['is_ultra']\n",
    "#define variables for testing\n",
    "features_test = megaline_test.drop(['is_ultra'], axis=1)\n",
    "target_test = megaline_test['is_ultra']\n",
    "#define variables for validation \n",
    "features_valid = megaline_valid.drop(['is_ultra'], axis=1)\n",
    "target_valid = megaline_valid['is_ultra']\n",
    "\n",
    "#train and validate model \n",
    "logistic_model =LogisticRegression(random_state=54321, solver='liblinear') \n",
    "logistic_model.fit(features_train, target_train)\n",
    "score_train = logistic_model.score(features_train, target_train)  \n",
    "score_valid = logistic_model.score(features_valid, target_valid)  \n",
    "\n",
    "print(\n",
    "    \"Accuracy of the logistic regression model on the training set:\",\n",
    "    score_train,\n",
    ")\n",
    "print(\n",
    "    \"Accuracy of the logistic regression model on the validation set:\",\n",
    "    score_valid,\n",
    ")"
   ]
  },
  {
   "cell_type": "code",
   "execution_count": 19,
   "metadata": {},
   "outputs": [
    {
     "name": "stdout",
     "output_type": "stream",
     "text": [
      "Accuracy of Logistic Regression on Test Set: 0.7402799377916018\n"
     ]
    }
   ],
   "source": [
    "#test logistic regression model on test set\n",
    "logistic_predictions_test = logistic_model.predict(features_test)\n",
    "print(\"Accuracy of Logistic Regression on Test Set:\", accuracy_score(target_test, logistic_predictions_test))"
   ]
  },
  {
   "cell_type": "markdown",
   "metadata": {},
   "source": [
    "Linear Regression performed the worst out of the three models tested.  On validation set it only achieved 67.8% accuracy which is only slight improvement from guessing. On the test set the accuracy increased to 74.8%.  However this is the result that decision tree and random forest classifiers achieved on their training/validation sets.  Performance on the test set was even higher. "
   ]
  },
  {
   "cell_type": "markdown",
   "metadata": {},
   "source": [
    "General Conclusion:\n",
    "    Megaline has several options on models to use to predict customer reccomendations.  Evaluated in this project were Decision Trees, Random Forest, and Logistic Regression.  Each model was trained, validated, and tested with their own slice of the data from source file.  The accuracies from the test set were as follows: Logistic Regression= 74%, Decision Tree=74.8%, and Random Forest=81.5%.  The superior model Megaline should use to evaluate all future customers is the random forest since the model achieved the highest accuracy in testing. This achieved the set standard of above 75%.  Neither Logistic regression or decision tree was able to perform at this higher level.  Machine Learning made a savy business reccomendation.  "
   ]
  }
 ],
 "metadata": {
  "ExecuteTimeLog": [
   {
    "duration": 1040,
    "start_time": "2024-11-07T02:43:45.931Z"
   },
   {
    "duration": 0,
    "start_time": "2024-11-07T02:43:46.973Z"
   },
   {
    "duration": 22,
    "start_time": "2024-11-07T02:44:51.605Z"
   },
   {
    "duration": 9,
    "start_time": "2024-11-07T02:46:08.278Z"
   },
   {
    "duration": 3,
    "start_time": "2024-11-07T02:46:11.723Z"
   },
   {
    "duration": 383,
    "start_time": "2024-11-07T02:46:14.023Z"
   },
   {
    "duration": 13,
    "start_time": "2024-11-07T02:46:15.299Z"
   },
   {
    "duration": 14,
    "start_time": "2024-11-07T02:47:44.937Z"
   },
   {
    "duration": 11,
    "start_time": "2024-11-07T02:47:46.984Z"
   },
   {
    "duration": 10,
    "start_time": "2024-11-07T02:48:16.750Z"
   },
   {
    "duration": 10,
    "start_time": "2024-11-07T02:51:54.570Z"
   },
   {
    "duration": 163,
    "start_time": "2024-11-07T14:27:27.287Z"
   },
   {
    "duration": 787,
    "start_time": "2024-11-07T14:27:36.779Z"
   },
   {
    "duration": 16,
    "start_time": "2024-11-07T14:27:37.569Z"
   },
   {
    "duration": 9,
    "start_time": "2024-11-07T14:27:37.586Z"
   },
   {
    "duration": 11,
    "start_time": "2024-11-07T14:27:37.597Z"
   },
   {
    "duration": 21,
    "start_time": "2024-11-07T14:27:37.610Z"
   },
   {
    "duration": 5,
    "start_time": "2024-11-07T14:27:41.812Z"
   },
   {
    "duration": 7,
    "start_time": "2024-11-07T14:29:29.856Z"
   },
   {
    "duration": 805,
    "start_time": "2024-11-07T17:34:27.572Z"
   },
   {
    "duration": 9,
    "start_time": "2024-11-07T17:34:28.379Z"
   },
   {
    "duration": 9,
    "start_time": "2024-11-07T17:34:28.392Z"
   },
   {
    "duration": 29,
    "start_time": "2024-11-07T17:34:28.403Z"
   },
   {
    "duration": 9,
    "start_time": "2024-11-07T17:34:28.434Z"
   },
   {
    "duration": 5,
    "start_time": "2024-11-07T17:34:28.445Z"
   },
   {
    "duration": 7,
    "start_time": "2024-11-07T17:34:28.452Z"
   },
   {
    "duration": 6,
    "start_time": "2024-11-07T17:34:28.460Z"
   },
   {
    "duration": 18585,
    "start_time": "2024-11-07T17:34:28.469Z"
   },
   {
    "duration": 15494,
    "start_time": "2024-11-07T17:35:08.478Z"
   },
   {
    "duration": 15408,
    "start_time": "2024-11-07T18:31:46.512Z"
   },
   {
    "duration": 222,
    "start_time": "2024-11-07T18:35:25.177Z"
   },
   {
    "duration": 51,
    "start_time": "2024-11-07T18:37:35.289Z"
   },
   {
    "duration": 129,
    "start_time": "2024-11-07T18:37:44.354Z"
   },
   {
    "duration": 401,
    "start_time": "2024-11-07T18:37:52.874Z"
   },
   {
    "duration": 828,
    "start_time": "2024-11-07T18:38:02.120Z"
   },
   {
    "duration": 229,
    "start_time": "2024-11-08T03:00:40.186Z"
   },
   {
    "duration": 230,
    "start_time": "2024-11-08T03:02:13.878Z"
   },
   {
    "duration": 11879,
    "start_time": "2024-11-08T03:03:40.413Z"
   },
   {
    "duration": 777,
    "start_time": "2024-11-08T03:06:55.399Z"
   },
   {
    "duration": 8,
    "start_time": "2024-11-08T03:06:56.179Z"
   },
   {
    "duration": 10,
    "start_time": "2024-11-08T03:06:56.188Z"
   },
   {
    "duration": 11,
    "start_time": "2024-11-08T03:06:56.201Z"
   },
   {
    "duration": 8,
    "start_time": "2024-11-08T03:06:56.231Z"
   },
   {
    "duration": 5,
    "start_time": "2024-11-08T03:06:56.241Z"
   },
   {
    "duration": 8,
    "start_time": "2024-11-08T03:06:56.247Z"
   },
   {
    "duration": 6,
    "start_time": "2024-11-08T03:06:56.256Z"
   },
   {
    "duration": 15498,
    "start_time": "2024-11-08T03:06:56.264Z"
   },
   {
    "duration": 244,
    "start_time": "2024-11-08T03:07:11.764Z"
   },
   {
    "duration": 229,
    "start_time": "2024-11-08T03:07:12.010Z"
   },
   {
    "duration": 0,
    "start_time": "2024-11-08T03:07:12.241Z"
   },
   {
    "duration": 172,
    "start_time": "2024-11-08T03:13:52.994Z"
   },
   {
    "duration": 833,
    "start_time": "2024-11-08T03:31:54.834Z"
   },
   {
    "duration": 16,
    "start_time": "2024-11-08T03:34:11.348Z"
   },
   {
    "duration": 13,
    "start_time": "2024-11-08T03:58:23.400Z"
   },
   {
    "duration": 12,
    "start_time": "2024-11-08T04:00:48.411Z"
   },
   {
    "duration": 5,
    "start_time": "2024-11-08T04:00:50.910Z"
   },
   {
    "duration": 171,
    "start_time": "2024-11-08T04:12:29.667Z"
   },
   {
    "duration": 5,
    "start_time": "2024-11-08T04:23:50.301Z"
   }
  ],
  "kernelspec": {
   "display_name": "Python 3 (ipykernel)",
   "language": "python",
   "name": "python3"
  },
  "language_info": {
   "codemirror_mode": {
    "name": "ipython",
    "version": 3
   },
   "file_extension": ".py",
   "mimetype": "text/x-python",
   "name": "python",
   "nbconvert_exporter": "python",
   "pygments_lexer": "ipython3",
   "version": "3.9.19"
  },
  "toc": {
   "base_numbering": 1,
   "nav_menu": {},
   "number_sections": true,
   "sideBar": true,
   "skip_h1_title": true,
   "title_cell": "Table of Contents",
   "title_sidebar": "Contents",
   "toc_cell": false,
   "toc_position": {},
   "toc_section_display": true,
   "toc_window_display": false
  }
 },
 "nbformat": 4,
 "nbformat_minor": 2
}
